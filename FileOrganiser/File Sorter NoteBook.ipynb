{
 "cells": [
  {
   "cell_type": "code",
   "execution_count": 1,
   "metadata": {},
   "outputs": [],
   "source": [
    "import os, shutil"
   ]
  },
  {
   "cell_type": "code",
   "execution_count": 2,
   "metadata": {},
   "outputs": [],
   "source": [
    "import os, shutil\n",
    "path = r\"C:\\Users\\Razer\\Documents\\Data Analyst Lessons\\Python Tutorials\\File Sorter\"\n",
    "#r reads it as a raw string"
   ]
  },
  {
   "cell_type": "code",
   "execution_count": null,
   "metadata": {},
   "outputs": [],
   "source": [
    "'''\n",
    "Order of operations:\n",
    "1. in the path, are there folders here already - if not one needs to be created\n",
    "2. check each file individually and identify the file type \n",
    "3. place into correct folder\n",
    "'''"
   ]
  },
  {
   "cell_type": "code",
   "execution_count": 40,
   "metadata": {},
   "outputs": [
    {
     "data": {
      "text/plain": [
       "'.jpg'"
      ]
     },
     "execution_count": 40,
     "metadata": {},
     "output_type": "execute_result"
    }
   ],
   "source": [
    "os.listdir(path)[1][-4:] #myself"
   ]
  },
  {
   "cell_type": "code",
   "execution_count": 48,
   "metadata": {},
   "outputs": [],
   "source": [
    "ext_list = [] #myself"
   ]
  },
  {
   "cell_type": "code",
   "execution_count": 51,
   "metadata": {},
   "outputs": [
    {
     "name": "stdout",
     "output_type": "stream",
     "text": [
      "['jpg', 'jpg', 'xlsx', 'docx', 'xlsx', 'jpg', 'jpg', 'xlsx', 'docx', 'xlsx', 'jpg', 'jpg', 'xlsx', 'docx', 'xlsx']\n",
      "C:\\Users\\Razer\\Documents\\Data Analyst Lessons\\Python Tutorials\\File Sorter\\jpg folder\n",
      "C:\\Users\\Razer\\Documents\\Data Analyst Lessons\\Python Tutorials\\File Sorter\\jpg folder\n",
      "C:\\Users\\Razer\\Documents\\Data Analyst Lessons\\Python Tutorials\\File Sorter\\xlsx folder\n",
      "C:\\Users\\Razer\\Documents\\Data Analyst Lessons\\Python Tutorials\\File Sorter\\docx folder\n",
      "C:\\Users\\Razer\\Documents\\Data Analyst Lessons\\Python Tutorials\\File Sorter\\xlsx folder\n",
      "C:\\Users\\Razer\\Documents\\Data Analyst Lessons\\Python Tutorials\\File Sorter\\jpg folder\n",
      "C:\\Users\\Razer\\Documents\\Data Analyst Lessons\\Python Tutorials\\File Sorter\\jpg folder\n",
      "C:\\Users\\Razer\\Documents\\Data Analyst Lessons\\Python Tutorials\\File Sorter\\xlsx folder\n",
      "C:\\Users\\Razer\\Documents\\Data Analyst Lessons\\Python Tutorials\\File Sorter\\docx folder\n",
      "C:\\Users\\Razer\\Documents\\Data Analyst Lessons\\Python Tutorials\\File Sorter\\xlsx folder\n",
      "C:\\Users\\Razer\\Documents\\Data Analyst Lessons\\Python Tutorials\\File Sorter\\jpg folder\n",
      "C:\\Users\\Razer\\Documents\\Data Analyst Lessons\\Python Tutorials\\File Sorter\\jpg folder\n",
      "C:\\Users\\Razer\\Documents\\Data Analyst Lessons\\Python Tutorials\\File Sorter\\xlsx folder\n",
      "C:\\Users\\Razer\\Documents\\Data Analyst Lessons\\Python Tutorials\\File Sorter\\docx folder\n",
      "C:\\Users\\Razer\\Documents\\Data Analyst Lessons\\Python Tutorials\\File Sorter\\xlsx folder\n"
     ]
    }
   ],
   "source": [
    "for f in os.listdir(path):\n",
    "    file_ext = (f[-4:].lstrip('.'))\n",
    "    ext_list.append(file_ext)\n",
    "print(ext_list) #done myself\n",
    "for e in ext_list:\n",
    "    print(path + '\\\\' + e + ' ' + 'folder')"
   ]
  },
  {
   "cell_type": "code",
   "execution_count": null,
   "metadata": {},
   "outputs": [],
   "source": [
    "os.path.exists(path + 'csv files') #hardcoded check for a folder with this name"
   ]
  },
  {
   "cell_type": "code",
   "execution_count": 30,
   "metadata": {},
   "outputs": [
    {
     "name": "stdout",
     "output_type": "stream",
     "text": [
      "C:\\Users\\Razer\\Documents\\Data Analyst Lessons\\Python Tutorials\\File Sorter\\image files\n",
      "C:\\Users\\Razer\\Documents\\Data Analyst Lessons\\Python Tutorials\\File Sorter\\excel files\n",
      "C:\\Users\\Razer\\Documents\\Data Analyst Lessons\\Python Tutorials\\File Sorter\\doc files\n"
     ]
    }
   ],
   "source": [
    "dir_names = ['image files', 'excel files', 'doc files']\n",
    "for d in dir_names: \n",
    "    if not (os.path.exists(path + '\\\\' + d)):\n",
    "        os.makedirs(path + '\\\\' + d) #solved myself, alex had a problem with trying to get a full url\n",
    "        print(path + '\\\\' + d)"
   ]
  },
  {
   "cell_type": "code",
   "execution_count": 31,
   "metadata": {},
   "outputs": [
    {
     "name": "stdout",
     "output_type": "stream",
     "text": [
      "['Brighton_Marina1.jpg', 'Dinoco_Replica.jpg', 'doc files', 'excel files', 'image files', 'shear_data.xlsx', 'Squash Balls Case Study.docx', 'stress_strain_data.xlsx']\n"
     ]
    }
   ],
   "source": [
    "print(os.listdir(path))"
   ]
  },
  {
   "cell_type": "code",
   "execution_count": 34,
   "metadata": {},
   "outputs": [],
   "source": [
    "file_name = os.listdir(path)\n",
    "for file in file_name:\n",
    "    if '.xlsx' in file and not os.path.isfile(path + '\\\\' + 'excel files'):\n",
    "        shutil.move(path + '\\\\' + file, path + '\\\\' + 'excel files' )\n",
    "    elif '.jpg' in file and not os.path.isfile(path + '\\\\' + 'image files'):\n",
    "        shutil.move(path + '\\\\' + file, path + '\\\\' + 'image files' )\n",
    "    elif '.docx' in file and not os.path.isfile(path + '\\\\' + 'doc files'):\n",
    "        shutil.move(path + '\\\\' + file, path + '\\\\' + 'doc files' )\n",
    "    elif len(os.listdir(path)) > 3:\n",
    "        ('There were unassigned files in this dir')"
   ]
  },
  {
   "cell_type": "code",
   "execution_count": 24,
   "metadata": {},
   "outputs": [
    {
     "name": "stdout",
     "output_type": "stream",
     "text": [
      "Index 0, image files: False\n",
      "Index 1, excel files: False\n",
      "Index 2, doc files: False\n"
     ]
    }
   ],
   "source": [
    "for index, d in enumerate(dir_names):\n",
    "    print(f\"Index {index}, {d}: {os.path.exists(path + d)}\") #random"
   ]
  },
  {
   "cell_type": "code",
   "execution_count": 3,
   "metadata": {},
   "outputs": [
    {
     "name": "stdout",
     "output_type": "stream",
     "text": [
      "Brighton_Marina1.jpg jpg\n",
      "Dinoco_Replica.jpg jpg\n",
      "shear_data.xlsx xlsx\n",
      "Squash Balls Case Study.docx docx\n",
      "stress_strain_data.xlsx xlsx\n",
      "['jpg', 'xlsx', 'docx']\n",
      "['jpg folder', 'xlsx folder', 'docx folder']\n",
      "['C:\\\\Users\\\\Razer\\\\Documents\\\\Data Analyst Lessons\\\\Python Tutorials\\\\File Sorter\\\\jpg folder', 'C:\\\\Users\\\\Razer\\\\Documents\\\\Data Analyst Lessons\\\\Python Tutorials\\\\File Sorter\\\\xlsx folder', 'C:\\\\Users\\\\Razer\\\\Documents\\\\Data Analyst Lessons\\\\Python Tutorials\\\\File Sorter\\\\docx folder']\n"
     ]
    }
   ],
   "source": [
    "' CORRECT CODE FINALLY'\n",
    "import os, shutil\n",
    "path = r\"C:\\Users\\Razer\\Documents\\Data Analyst Lessons\\Python Tutorials\\File Sorter\"\n",
    "ext_list = [] \n",
    "dir_names = []\n",
    "\n",
    "for f in os.listdir(path):\n",
    "    file_ext = (f[-4:].lstrip('.'))\n",
    "    if file_ext not in ext_list:\n",
    "        ext_list.append(file_ext)\n",
    "    print(f, file_ext)\n",
    "print(ext_list) #list of extensions, jpg, xlsx, docx (with dupes)\n",
    "\n",
    "for e in ext_list:\n",
    "    folder = e + ' ' + 'folder'\n",
    "    dir_names.append(folder)\n",
    "print(dir_names)\n",
    "dir_paths = [os.path.join(path, folder) for folder in dir_names]\n",
    "print(dir_paths)\n",
    "\n",
    "for d in dir_paths:\n",
    "    if not os.path.exists(d):\n",
    "        os.makedirs(d)\n",
    "\n",
    "for file in os.listdir(path):\n",
    "    ext = file[-4:].lstrip('.')\n",
    "    destination = ext + ' folder'\n",
    "    cur_path = os.path.join(path, file)\n",
    "    dest_path = os.path.join(path, destination, file)\n",
    "    if os.path.isfile(cur_path) and not os.path.exists(dest_path):\n",
    "        shutil.move(cur_path, dest_path)\n"
   ]
  },
  {
   "cell_type": "code",
   "execution_count": 68,
   "metadata": {},
   "outputs": [
    {
     "name": "stdout",
     "output_type": "stream",
     "text": [
      "('Brighton_Marina1.jpg', 'jpg')\n",
      "('Dinoco_Replica.jpg', 'jpg')\n",
      "('shear_data.xlsx', 'xlsx')\n",
      "('Squash Balls Case Study.docx', 'docx')\n",
      "('stress_strain_data.xlsx', 'xlsx')\n"
     ]
    }
   ],
   "source": [
    "for file in (os.listdir(path)):\n",
    "    ext = file[-4:].lstrip('.')\n",
    "    file_ext_pair = file, ext\n",
    "    print(file_ext_pair)\n",
    "# file, ext = zip(os.listdir(path), ext_list)\n",
    "# print(file, ext)"
   ]
  },
  {
   "cell_type": "code",
   "execution_count": null,
   "metadata": {},
   "outputs": [],
   "source": [
    "for e in ext_list:\n",
    "    dir_path = path + '\\\\' + e + ' ' + 'folder'\n",
    "    dir_names.append(dir_path)\n",
    "for d in dir_names:\n",
    "    if not os.path.exists(d):\n",
    "        os.makedirs(d)\n",
    "    \n",
    "file_name = os.listdir(path)\n",
    "for file in file_name:\n",
    "    if '.xlsx' in file and not os.path.isfile(path + '\\\\' + 'xlsx folder'):\n",
    "        shutil.move(path + '\\\\' + file, path + '\\\\' + 'xlsx folder' )\n",
    "    elif '.jpg' in file and not os.path.isfile(path + '\\\\' + 'jpg folder'):\n",
    "        shutil.move(path + '\\\\' + file, path + '\\\\' + 'jpg folder' )\n",
    "    elif '.docx' in file and not os.path.isfile(path + '\\\\' + 'docx folder'):\n",
    "        shutil.move(path + '\\\\' + file, path + '\\\\' + 'docx folder' )\n",
    "    elif len(os.listdir(path)) > 3:\n",
    "        ('There were unassigned files in this dir')"
   ]
  }
 ],
 "metadata": {
  "kernelspec": {
   "display_name": "aicoretest",
   "language": "python",
   "name": "python3"
  },
  "language_info": {
   "codemirror_mode": {
    "name": "ipython",
    "version": 3
   },
   "file_extension": ".py",
   "mimetype": "text/x-python",
   "name": "python",
   "nbconvert_exporter": "python",
   "pygments_lexer": "ipython3",
   "version": "3.9.12"
  }
 },
 "nbformat": 4,
 "nbformat_minor": 2
}
